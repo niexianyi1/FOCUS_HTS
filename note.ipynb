{
 "cells": [
  {
   "cell_type": "markdown",
   "metadata": {},
   "source": [
    "考虑到分辨率对精度的影响，ns建议大于32  \n",
    "由于简化版的bspline参数计算，输入的线圈坐标分辨率也应为ns+1，包含一个首尾重合点"
   ]
  },
  {
   "cell_type": "code",
   "execution_count": null,
   "metadata": {},
   "outputs": [],
   "source": [
    "# from coilpy import vmec2focus\n",
    "# vmec2focus(' initfiles/ncsx_c09r00/wout_c09r00_fb.nc', \n",
    "#         focus_file=' initfiles/ncsx_c09r00/c09r00.boundary', \n",
    "#         bnorm_file=' initfiles/ncsx_c09r00/bnorm.c09r00_fb')"
   ]
  },
  {
   "cell_type": "code",
   "execution_count": null,
   "metadata": {},
   "outputs": [],
   "source": [
    "## fourier 和 spline的数据结构"
   ]
  }
 ],
 "metadata": {
  "kernelspec": {
   "display_name": "Python 3.8.10 64-bit",
   "language": "python",
   "name": "python3"
  },
  "language_info": {
   "codemirror_mode": {
    "name": "ipython",
    "version": 3
   },
   "file_extension": ".py",
   "mimetype": "text/x-python",
   "name": "python",
   "nbconvert_exporter": "python",
   "pygments_lexer": "ipython3",
   "version": "3.8.10"
  },
  "orig_nbformat": 4,
  "vscode": {
   "interpreter": {
    "hash": "916dbcbb3f70747c44a77c7bcd40155683ae19c65e1c03b4aa3499c5328201f1"
   }
  }
 },
 "nbformat": 4,
 "nbformat_minor": 2
}
