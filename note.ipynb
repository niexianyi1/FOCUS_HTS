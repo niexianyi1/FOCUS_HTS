{
 "cells": [
  {
   "cell_type": "markdown",
   "metadata": {},
   "source": [
    "考虑到分辨率对精度的影响，ns建议大于32  \n",
    "由于简化版的bspline参数计算，输入的线圈坐标分辨率也应为ns+1，包含一个首尾重合点"
   ]
  },
  {
   "cell_type": "code",
   "execution_count": null,
   "metadata": {},
   "outputs": [],
   "source": [
    "# from coilpy import vmec2focus\n",
    "# vmec2focus(' initfiles/ncsx_c09r00/wout_c09r00_fb.nc', \n",
    "#         focus_file=' initfiles/ncsx_c09r00/c09r00.boundary', \n",
    "#         bnorm_file=' initfiles/ncsx_c09r00/bnorm.c09r00_fb')"
   ]
  },
  {
   "cell_type": "code",
   "execution_count": null,
   "metadata": {},
   "outputs": [],
   "source": [
    "## Fourier 结构: fc = np.zeros((nc, 6, nfc))\n",
    "## spline 结构: c = np.zeros((nc, 3, ncp))"
   ]
  },
  {
   "cell_type": "markdown",
   "metadata": {},
   "source": [
    "4. 权重改成归一可能不成立，jax无法分辨\n",
    "!! 权重改成归一不成立 !!\n",
    "\n",
    "5. AD的内存和运行时间\n",
    "后面再看吧"
   ]
  },
  {
   "cell_type": "markdown",
   "metadata": {},
   "source": [
    "1. 将代码的符号和文章统一\n",
    "2. 磁力线追踪\n",
    "3. 应变优化的结果\n",
    "\n",
    "\n",
    "6. 各种注释写好，readme文件写好\n",
    "7. 要不要给.focus文件做接口？\n",
    "8. fourier mode 和 B-spline control points的数量选择。\n",
    "9. makegrid文件调整，包含电流项"
   ]
  },
  {
   "cell_type": "markdown",
   "metadata": {},
   "source": [
    "1. easy_way_bending加上了，但是应该影响不大，只作为数值参考"
   ]
  }
 ],
 "metadata": {
  "kernelspec": {
   "display_name": "Python 3.8.10 64-bit",
   "language": "python",
   "name": "python3"
  },
  "language_info": {
   "codemirror_mode": {
    "name": "ipython",
    "version": 3
   },
   "file_extension": ".py",
   "mimetype": "text/x-python",
   "name": "python",
   "nbconvert_exporter": "python",
   "pygments_lexer": "ipython3",
   "version": "3.8.10"
  },
  "orig_nbformat": 4,
  "vscode": {
   "interpreter": {
    "hash": "916dbcbb3f70747c44a77c7bcd40155683ae19c65e1c03b4aa3499c5328201f1"
   }
  }
 },
 "nbformat": 4,
 "nbformat_minor": 2
}
