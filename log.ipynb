{
 "cells": [
  {
   "cell_type": "markdown",
   "metadata": {},
   "source": [
    "8.23\n",
    "1. 添加了easy_way_bending，但是应该影响不大，只作为数值参考\n",
    "\n",
    "2. 调整了makegrid文件的读取，\n",
    "！！但是输出还没改，不知道有没有必要。\n",
    "\n",
    "3. ！！调整spline的参数名时意外报了bug，在检查问题。"
   ]
  },
  {
   "cell_type": "markdown",
   "metadata": {},
   "source": [
    "8.25 \n",
    "1. 添加了权重归一，可将除bn外的其他参数归一优化，但是还不熟悉\n",
    "\n",
    "2. 添加了单独优化每个线圈的应变，另建一个文件夹\n",
    "\n",
    "3. 改了Fourier的参数格式，此前的结果文件想用需要通过useful_script/trans_fc_fr.py修改一下。\n",
    "\n",
    "4. 删减了几个不必要的输入参数。\n"
   ]
  },
  {
   "cell_type": "markdown",
   "metadata": {},
   "source": [
    "！！ 待办 ！！\n",
    "1. 将代码的符号和文章统一\n",
    "2. 磁力线追踪\n",
    "3. 应变优化的结果\n",
    "\n",
    "6. 各种注释写好，readme文件写好\n",
    "7. 要不要给.focus文件做接口？\n",
    "8. fourier mode 和 B-spline control points的数量选择。\n"
   ]
  }
 ],
 "metadata": {
  "kernelspec": {
   "display_name": "Python 3.8.10 64-bit",
   "language": "python",
   "name": "python3"
  },
  "language_info": {
   "codemirror_mode": {
    "name": "ipython",
    "version": 3
   },
   "file_extension": ".py",
   "mimetype": "text/x-python",
   "name": "python",
   "nbconvert_exporter": "python",
   "pygments_lexer": "ipython3",
   "version": "3.8.10"
  },
  "orig_nbformat": 4,
  "vscode": {
   "interpreter": {
    "hash": "916dbcbb3f70747c44a77c7bcd40155683ae19c65e1c03b4aa3499c5328201f1"
   }
  }
 },
 "nbformat": 4,
 "nbformat_minor": 2
}
